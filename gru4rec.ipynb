{
 "cells": [
  {
   "cell_type": "code",
   "execution_count": 1,
   "id": "417deff6",
   "metadata": {
    "_cell_guid": "b1076dfc-b9ad-4769-8c92-a6c4dae69d19",
    "_uuid": "8f2839f25d086af736a60e9eeb907d3b93b6e0e5",
    "execution": {
     "iopub.execute_input": "2023-10-31T04:35:23.231436Z",
     "iopub.status.busy": "2023-10-31T04:35:23.231074Z",
     "iopub.status.idle": "2023-10-31T04:35:24.890175Z",
     "shell.execute_reply": "2023-10-31T04:35:24.889232Z"
    },
    "papermill": {
     "duration": 1.665234,
     "end_time": "2023-10-31T04:35:24.892581",
     "exception": false,
     "start_time": "2023-10-31T04:35:23.227347",
     "status": "completed"
    },
    "tags": []
   },
   "outputs": [
    {
     "name": "stdout",
     "output_type": "stream",
     "text": [
      "Cloning into 'GRU4Rec_Tensorflow_Official'...\r\n",
      "remote: Enumerating objects: 41, done.\u001b[K\r\n",
      "remote: Counting objects: 100% (41/41), done.\u001b[K\r\n",
      "remote: Compressing objects: 100% (26/26), done.\u001b[K\r\n",
      "remote: Total 41 (delta 12), reused 37 (delta 11), pack-reused 0\u001b[K\r\n",
      "Receiving objects: 100% (41/41), 198.78 KiB | 6.63 MiB/s, done.\r\n",
      "Resolving deltas: 100% (12/12), done.\r\n"
     ]
    }
   ],
   "source": [
    "!git clone https://github.com/hidasib/GRU4Rec_Tensorflow_Official.git"
   ]
  },
  {
   "cell_type": "code",
   "execution_count": 2,
   "id": "79dcea46",
   "metadata": {
    "execution": {
     "iopub.execute_input": "2023-10-31T04:35:24.899342Z",
     "iopub.status.busy": "2023-10-31T04:35:24.899017Z",
     "iopub.status.idle": "2023-10-31T04:35:24.905820Z",
     "shell.execute_reply": "2023-10-31T04:35:24.904889Z"
    },
    "papermill": {
     "duration": 0.012284,
     "end_time": "2023-10-31T04:35:24.907783",
     "exception": false,
     "start_time": "2023-10-31T04:35:24.895499",
     "status": "completed"
    },
    "tags": []
   },
   "outputs": [
    {
     "name": "stdout",
     "output_type": "stream",
     "text": [
      "/kaggle/working/GRU4Rec_Tensorflow_Official\n"
     ]
    }
   ],
   "source": [
    "%cd /kaggle/working/GRU4Rec_Tensorflow_Official"
   ]
  },
  {
   "cell_type": "code",
   "execution_count": 3,
   "id": "9a1ac58a",
   "metadata": {
    "execution": {
     "iopub.execute_input": "2023-10-31T04:35:24.913466Z",
     "iopub.status.busy": "2023-10-31T04:35:24.913141Z",
     "iopub.status.idle": "2023-10-31T07:44:07.866981Z",
     "shell.execute_reply": "2023-10-31T07:44:07.865840Z"
    },
    "papermill": {
     "duration": 11322.9594,
     "end_time": "2023-10-31T07:44:07.869450",
     "exception": false,
     "start_time": "2023-10-31T04:35:24.910050",
     "status": "completed"
    },
    "tags": []
   },
   "outputs": [
    {
     "name": "stdout",
     "output_type": "stream",
     "text": [
      "/opt/conda/lib/python3.10/site-packages/scipy/__init__.py:146: UserWarning: A NumPy version >=1.16.5 and <1.23.0 is required for this version of SciPy (detected version 1.23.5\r\n",
      "  warnings.warn(f\"A NumPy version >={np_minversion} and <{np_maxversion}\"\r\n",
      "Creating GRU4Rec model\r\n",
      "SET   layers                  TO   [224]     (type: <class 'list'>)\r\n",
      "SET   batch_size              TO   80        (type: <class 'int'>)\r\n",
      "SET   dropout_p_embed         TO   0.5       (type: <class 'float'>)\r\n",
      "SET   dropout_p_hidden        TO   0.05      (type: <class 'float'>)\r\n",
      "SET   learning_rate           TO   0.05      (type: <class 'float'>)\r\n",
      "SET   momentum                TO   0.4       (type: <class 'float'>)\r\n",
      "SET   n_sample                TO   2048      (type: <class 'int'>)\r\n",
      "SET   sample_alpha            TO   0.4       (type: <class 'float'>)\r\n",
      "SET   bpreg                   TO   1.95      (type: <class 'float'>)\r\n",
      "SET   logq                    TO   0.0       (type: <class 'float'>)\r\n",
      "SET   loss                    TO   bpr-max   (type: <class 'str'>)\r\n",
      "SET   constrained_embedding   TO   True      (type: <class 'bool'>)\r\n",
      "SET   elu_param               TO   0.5       (type: <class 'float'>)\r\n",
      "SET   n_epochs                TO   10        (type: <class 'int'>)\r\n",
      "Loading training data...\r\n",
      "Loading data from TAB separated file: /kaggle/input/rsc15-data/rsc15_train_tr.txt\r\n",
      "Started training\r\n",
      "The dataframe is not sorted by SessionId, sorting now\r\n",
      "Data is sorted in 37.88\r\n",
      "Created sample store with 4882 batches of samples (type=GPU)\r\n",
      "Epoch1 --> loss: 0.367040 \t(1118.91s) \t[263.95 mb/s | 21114 e/s]\r\n",
      "Epoch2 --> loss: 0.364077 \t(1108.77s) \t[266.36 mb/s | 21307 e/s]\r\n",
      "Epoch3 --> loss: 0.362965 \t(1117.54s) \t[264.27 mb/s | 21140 e/s]\r\n",
      "Epoch4 --> loss: 0.362436 \t(1117.15s) \t[264.37 mb/s | 21148 e/s]\r\n",
      "Epoch5 --> loss: 0.362157 \t(1114.20s) \t[265.06 mb/s | 21204 e/s]\r\n",
      "Epoch6 --> loss: 0.361995 \t(1115.37s) \t[264.79 mb/s | 21181 e/s]\r\n",
      "Epoch7 --> loss: 0.361851 \t(1117.45s) \t[264.29 mb/s | 21142 e/s]\r\n",
      "Epoch8 --> loss: 0.361781 \t(1130.92s) \t[261.15 mb/s | 20890 e/s]\r\n",
      "Epoch9 --> loss: 0.361719 \t(1122.75s) \t[263.05 mb/s | 21042 e/s]\r\n",
      "Epoch10 --> loss: 0.361699 \t(1122.32s) \t[263.15 mb/s | 21050 e/s]\r\n",
      "Total training time: 11245.60s\r\n",
      "Saving trained model to: /kaggle/working/GRU4Rec_Tensorflow_Official/save_model.pickle\r\n",
      "Loading test data...\r\n",
      "Loading data from TAB separated file: /kaggle/input/rsc15-data/rsc15_test.txt\r\n",
      "Starting evaluation (cut-off=[1, 5, 10, 20], using standard mode for tiebreaking)\r\n",
      "Using existing item ID map\r\n",
      "The dataframe is not sorted by SessionId, sorting now\r\n",
      "Data is sorted in 0.03\r\n",
      "Evaluation took 11.23s\r\n",
      "Recall@1: 0.163351 MRR@1: 0.163351\r\n",
      "Recall@5: 0.461501 MRR@5: 0.271834\r\n",
      "Recall@10: 0.598948 MRR@10: 0.290216\r\n",
      "Recall@20: 0.711313 MRR@20: 0.298164\r\n"
     ]
    }
   ],
   "source": [
    "train_path = '/kaggle/input/rsc15-data/rsc15_train_tr.txt'\n",
    "test_path = '/kaggle/input/rsc15-data/rsc15_test.txt'\n",
    "!python run.py {train_path} -t {test_path} -m 1 5 10 20 -ps layers=224,batch_size=80,dropout_p_embed=0.5,dropout_p_hidden=0.05,learning_rate=0.05,momentum=0.4,n_sample=2048,sample_alpha=0.4,bpreg=1.95,logq=0.0,loss=bpr-max,constrained_embedding=True,elu_param=0.5,n_epochs=10 -d GPU:0 -s /kaggle/working/GRU4Rec_Tensorflow_Official/save_model.pickle"
   ]
  },
  {
   "cell_type": "code",
   "execution_count": null,
   "id": "2d8882fa",
   "metadata": {
    "papermill": {
     "duration": 0.003794,
     "end_time": "2023-10-31T07:44:07.877396",
     "exception": false,
     "start_time": "2023-10-31T07:44:07.873602",
     "status": "completed"
    },
    "tags": []
   },
   "outputs": [],
   "source": []
  }
 ],
 "metadata": {
  "kernelspec": {
   "display_name": "Python 3",
   "language": "python",
   "name": "python3"
  },
  "language_info": {
   "codemirror_mode": {
    "name": "ipython",
    "version": 3
   },
   "file_extension": ".py",
   "mimetype": "text/x-python",
   "name": "python",
   "nbconvert_exporter": "python",
   "pygments_lexer": "ipython3",
   "version": "3.10.12"
  },
  "papermill": {
   "default_parameters": {},
   "duration": 11328.351034,
   "end_time": "2023-10-31T07:44:08.222580",
   "environment_variables": {},
   "exception": null,
   "input_path": "__notebook__.ipynb",
   "output_path": "__notebook__.ipynb",
   "parameters": {},
   "start_time": "2023-10-31T04:35:19.871546",
   "version": "2.4.0"
  }
 },
 "nbformat": 4,
 "nbformat_minor": 5
}
